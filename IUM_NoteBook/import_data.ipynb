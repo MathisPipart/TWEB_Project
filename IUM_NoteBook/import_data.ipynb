{
 "cells": [
  {
   "metadata": {},
   "cell_type": "markdown",
   "source": "# IUM-TWEB Jupyter Notebooks 1 : PSQL connection",
   "id": "8a77807f92f26ee"
  },
  {
   "metadata": {},
   "cell_type": "markdown",
   "source": "## Import required libraries  ",
   "id": "892e6f8551085120"
  },
  {
   "metadata": {
    "ExecuteTime": {
     "end_time": "2024-12-23T17:59:03.780105Z",
     "start_time": "2024-12-23T17:59:03.530678Z"
    }
   },
   "cell_type": "code",
   "source": [
    "from sqlalchemy import create_engine\n",
    "import pandas as pd\n",
    "import pickle"
   ],
   "id": "77713cf1e357b6ce",
   "outputs": [],
   "execution_count": 1
  },
  {
   "metadata": {},
   "cell_type": "markdown",
   "source": "## Define database connection parameters  ",
   "id": "fea3e082dd0790e2"
  },
  {
   "metadata": {
    "ExecuteTime": {
     "end_time": "2024-12-23T17:59:03.787742Z",
     "start_time": "2024-12-23T17:59:03.784387Z"
    }
   },
   "cell_type": "code",
   "source": [
    "DB_HOST = \"localhost\"\n",
    "DB_PORT = \"5432\"\n",
    "DB_NAME = \"projecttweb\"\n",
    "DB_USER = \"postgres\"\n",
    "DB_PASSWORD = \"postgres\""
   ],
   "id": "134a5fcefdb64caa",
   "outputs": [],
   "execution_count": 2
  },
  {
   "metadata": {},
   "cell_type": "markdown",
   "source": "## Establish a connection to the database",
   "id": "c715399b9c4f9b90"
  },
  {
   "metadata": {
    "ExecuteTime": {
     "end_time": "2024-12-23T17:59:03.962029Z",
     "start_time": "2024-12-23T17:59:03.887234Z"
    }
   },
   "cell_type": "code",
   "source": "engine = create_engine(f\"postgresql+psycopg2://{DB_USER}:{DB_PASSWORD}@{DB_HOST}:{DB_PORT}/{DB_NAME}\")\n",
   "id": "e0d2a41245b3c335",
   "outputs": [],
   "execution_count": 3
  },
  {
   "metadata": {},
   "cell_type": "markdown",
   "source": "## Load data from a table into a DataFrame",
   "id": "9f08d9206a52e4a6"
  },
  {
   "metadata": {
    "ExecuteTime": {
     "end_time": "2024-12-23T17:59:49.256974Z",
     "start_time": "2024-12-23T17:59:03.970833Z"
    }
   },
   "cell_type": "code",
   "source": [
    "def load_table_to_dataframe(table_name):\n",
    "    query = f\"SELECT * FROM {table_name} ORDER BY id;\"\n",
    "    try:\n",
    "        df = pd.read_sql_query(query, engine)\n",
    "        print(f\"Loaded table '{table_name}' into a DataFrame.\")\n",
    "        return df\n",
    "    except Exception as e:\n",
    "        print(f\"Error loading table '{table_name}':\", e)\n",
    "        return None\n",
    "\n",
    "# List of table names to import\n",
    "tables = [\"actor\", \"country\", \"crew\", \"genre\", \"language\", \"movie\", \n",
    "          \"poster\", \"release\", \"studio\", \"theme\"]\n",
    "\n",
    "# Load each table into a DataFrame\n",
    "dataframes = {}\n",
    "for table in tables:\n",
    "    dataframes[table] = load_table_to_dataframe(table)"
   ],
   "id": "a8971c7d2a64d2af",
   "outputs": [
    {
     "name": "stdout",
     "output_type": "stream",
     "text": [
      "Loaded table 'actor' into a DataFrame.\n",
      "Loaded table 'country' into a DataFrame.\n",
      "Loaded table 'crew' into a DataFrame.\n",
      "Loaded table 'genre' into a DataFrame.\n",
      "Loaded table 'language' into a DataFrame.\n",
      "Loaded table 'movie' into a DataFrame.\n",
      "Loaded table 'poster' into a DataFrame.\n",
      "Loaded table 'release' into a DataFrame.\n",
      "Loaded table 'studio' into a DataFrame.\n",
      "Loaded table 'theme' into a DataFrame.\n"
     ]
    }
   ],
   "execution_count": 4
  },
  {
   "metadata": {},
   "cell_type": "markdown",
   "source": "## Save all DataFrames using Pickle for reuse in another notebook",
   "id": "e3981a98c22c4eb8"
  },
  {
   "metadata": {
    "ExecuteTime": {
     "end_time": "2024-12-23T18:00:17.259915Z",
     "start_time": "2024-12-23T17:59:49.322484Z"
    }
   },
   "cell_type": "code",
   "source": [
    "with open('data/dataframes.pkl', 'wb') as f:\n",
    "    pickle.dump(dataframes, f)\n",
    "print(\"DataFrames saved to 'dataframes.pkl'.\")"
   ],
   "id": "48cc168804ebbddf",
   "outputs": [
    {
     "name": "stdout",
     "output_type": "stream",
     "text": [
      "DataFrames saved to 'dataframes.pkl'.\n"
     ]
    }
   ],
   "execution_count": 5
  }
 ],
 "metadata": {
  "kernelspec": {
   "display_name": "Python 3",
   "language": "python",
   "name": "python3"
  },
  "language_info": {
   "codemirror_mode": {
    "name": "ipython",
    "version": 2
   },
   "file_extension": ".py",
   "mimetype": "text/x-python",
   "name": "python",
   "nbconvert_exporter": "python",
   "pygments_lexer": "ipython2",
   "version": "2.7.6"
  }
 },
 "nbformat": 4,
 "nbformat_minor": 5
}
