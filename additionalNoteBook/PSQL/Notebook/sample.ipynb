{
 "cells": [
  {
   "metadata": {},
   "cell_type": "markdown",
   "source": "# Creation of a .csv file with all the film data",
   "id": "8a77807f92f26ee"
  },
  {
   "metadata": {
    "ExecuteTime": {
     "end_time": "2025-01-10T23:47:11.099569Z",
     "start_time": "2025-01-10T23:47:09.455011Z"
    }
   },
   "cell_type": "code",
   "source": "import pandas as pd",
   "id": "b0c08ec5dd0c373e",
   "outputs": [],
   "execution_count": 2
  },
  {
   "metadata": {},
   "cell_type": "markdown",
   "source": "## Loading CSV files",
   "id": "863340cec11fc314"
  },
  {
   "metadata": {
    "ExecuteTime": {
     "end_time": "2025-01-10T23:47:44.792448Z",
     "start_time": "2025-01-10T23:47:11.107069Z"
    }
   },
   "cell_type": "code",
   "source": [
    "movies = pd.read_csv(\"data/movies.csv\")\n",
    "posters = pd.read_csv(\"data/posters.csv\")\n",
    "genres = pd.read_csv(\"data/genres.csv\")\n",
    "actors = pd.read_csv(\"data/actors.csv\")\n",
    "crew = pd.read_csv(\"data/crew.csv\")\n",
    "countries = pd.read_csv(\"data/countries.csv\")\n",
    "languages = pd.read_csv(\"data/languages.csv\")\n",
    "releases = pd.read_csv(\"data/releases.csv\")\n",
    "studios = pd.read_csv(\"data/studios.csv\")\n",
    "themes = pd.read_csv(\"data/themes.csv\")"
   ],
   "id": "379ed69ccb733003",
   "outputs": [],
   "execution_count": 3
  },
  {
   "metadata": {},
   "cell_type": "markdown",
   "source": "## Joining data",
   "id": "bc5ccad19fb45f49"
  },
  {
   "metadata": {
    "ExecuteTime": {
     "end_time": "2025-01-10T23:47:46.146261Z",
     "start_time": "2025-01-10T23:47:44.911401Z"
    }
   },
   "cell_type": "code",
   "source": "details = movies.copy()",
   "id": "753d81dd13f738bb",
   "outputs": [],
   "execution_count": 4
  },
  {
   "metadata": {},
   "cell_type": "markdown",
   "source": "## convert date and minute data to int",
   "id": "8220672eb3b0c197"
  },
  {
   "metadata": {
    "ExecuteTime": {
     "end_time": "2025-01-10T23:47:46.276503Z",
     "start_time": "2025-01-10T23:47:46.206859Z"
    }
   },
   "cell_type": "code",
   "source": [
    "details['date'] = details['date'].fillna(0).astype(float).astype(int)\n",
    "details['minute'] = details['minute'].fillna(0).astype(float).astype(int)"
   ],
   "id": "9c0f7fc22139da9d",
   "outputs": [],
   "execution_count": 5
  },
  {
   "metadata": {
    "ExecuteTime": {
     "end_time": "2025-01-10T23:47:46.415597Z",
     "start_time": "2025-01-10T23:47:46.345574Z"
    }
   },
   "cell_type": "code",
   "source": "details",
   "id": "361708a087c8395e",
   "outputs": [
    {
     "data": {
      "text/plain": [
       "             id                               name  date  \\\n",
       "0       1000001                             Barbie  2023   \n",
       "1       1000002                           Parasite  2019   \n",
       "2       1000003  Everything Everywhere All at Once  2022   \n",
       "3       1000004                         Fight Club  1999   \n",
       "4       1000005                         La La Land  2016   \n",
       "...         ...                                ...   ...   \n",
       "941590  1941593                                 神笛     0   \n",
       "941591  1941594                      蟲極道蜜団子抗争編 壱ノ巻     0   \n",
       "941592  1941595                      蟲極道蜜団子抗争編 弐ノ巻     0   \n",
       "941593  1941596                                 重生     0   \n",
       "941594  1941597                             青ひげ公の城     0   \n",
       "\n",
       "                                                 tagline  \\\n",
       "0                       She's everything. He's just Ken.   \n",
       "1                            Act like you own the place.   \n",
       "2       The universe is so much bigger than you realize.   \n",
       "3                                Mischief. Mayhem. Soap.   \n",
       "4                         Here's to the fools who dream.   \n",
       "...                                                  ...   \n",
       "941590                                               NaN   \n",
       "941591                                               NaN   \n",
       "941592                                               NaN   \n",
       "941593                                               NaN   \n",
       "941594                                               NaN   \n",
       "\n",
       "                                              description  minute  rating  \n",
       "0       Barbie and Ken are having the time of their li...     114    3.86  \n",
       "1       All unemployed, Ki-taek's family takes peculia...     133    4.56  \n",
       "2       An aging Chinese immigrant is swept up in an i...     140    4.30  \n",
       "3       A ticking-time-bomb insomniac and a slippery s...     139    4.27  \n",
       "4       Mia, an aspiring actress, serves lattes to mov...     129    4.09  \n",
       "...                                                   ...     ...     ...  \n",
       "941590                                                NaN       0     NaN  \n",
       "941591  Shinjuku forest at night. In the sap taverns o...      30     NaN  \n",
       "941592  The city that never sleeps, where insects gath...      30     NaN  \n",
       "941593  In a world where order has broken down, darkne...       0     NaN  \n",
       "941594                                                NaN     130     NaN  \n",
       "\n",
       "[941595 rows x 7 columns]"
      ],
      "text/html": [
       "<div>\n",
       "<style scoped>\n",
       "    .dataframe tbody tr th:only-of-type {\n",
       "        vertical-align: middle;\n",
       "    }\n",
       "\n",
       "    .dataframe tbody tr th {\n",
       "        vertical-align: top;\n",
       "    }\n",
       "\n",
       "    .dataframe thead th {\n",
       "        text-align: right;\n",
       "    }\n",
       "</style>\n",
       "<table border=\"1\" class=\"dataframe\">\n",
       "  <thead>\n",
       "    <tr style=\"text-align: right;\">\n",
       "      <th></th>\n",
       "      <th>id</th>\n",
       "      <th>name</th>\n",
       "      <th>date</th>\n",
       "      <th>tagline</th>\n",
       "      <th>description</th>\n",
       "      <th>minute</th>\n",
       "      <th>rating</th>\n",
       "    </tr>\n",
       "  </thead>\n",
       "  <tbody>\n",
       "    <tr>\n",
       "      <th>0</th>\n",
       "      <td>1000001</td>\n",
       "      <td>Barbie</td>\n",
       "      <td>2023</td>\n",
       "      <td>She's everything. He's just Ken.</td>\n",
       "      <td>Barbie and Ken are having the time of their li...</td>\n",
       "      <td>114</td>\n",
       "      <td>3.86</td>\n",
       "    </tr>\n",
       "    <tr>\n",
       "      <th>1</th>\n",
       "      <td>1000002</td>\n",
       "      <td>Parasite</td>\n",
       "      <td>2019</td>\n",
       "      <td>Act like you own the place.</td>\n",
       "      <td>All unemployed, Ki-taek's family takes peculia...</td>\n",
       "      <td>133</td>\n",
       "      <td>4.56</td>\n",
       "    </tr>\n",
       "    <tr>\n",
       "      <th>2</th>\n",
       "      <td>1000003</td>\n",
       "      <td>Everything Everywhere All at Once</td>\n",
       "      <td>2022</td>\n",
       "      <td>The universe is so much bigger than you realize.</td>\n",
       "      <td>An aging Chinese immigrant is swept up in an i...</td>\n",
       "      <td>140</td>\n",
       "      <td>4.30</td>\n",
       "    </tr>\n",
       "    <tr>\n",
       "      <th>3</th>\n",
       "      <td>1000004</td>\n",
       "      <td>Fight Club</td>\n",
       "      <td>1999</td>\n",
       "      <td>Mischief. Mayhem. Soap.</td>\n",
       "      <td>A ticking-time-bomb insomniac and a slippery s...</td>\n",
       "      <td>139</td>\n",
       "      <td>4.27</td>\n",
       "    </tr>\n",
       "    <tr>\n",
       "      <th>4</th>\n",
       "      <td>1000005</td>\n",
       "      <td>La La Land</td>\n",
       "      <td>2016</td>\n",
       "      <td>Here's to the fools who dream.</td>\n",
       "      <td>Mia, an aspiring actress, serves lattes to mov...</td>\n",
       "      <td>129</td>\n",
       "      <td>4.09</td>\n",
       "    </tr>\n",
       "    <tr>\n",
       "      <th>...</th>\n",
       "      <td>...</td>\n",
       "      <td>...</td>\n",
       "      <td>...</td>\n",
       "      <td>...</td>\n",
       "      <td>...</td>\n",
       "      <td>...</td>\n",
       "      <td>...</td>\n",
       "    </tr>\n",
       "    <tr>\n",
       "      <th>941590</th>\n",
       "      <td>1941593</td>\n",
       "      <td>神笛</td>\n",
       "      <td>0</td>\n",
       "      <td>NaN</td>\n",
       "      <td>NaN</td>\n",
       "      <td>0</td>\n",
       "      <td>NaN</td>\n",
       "    </tr>\n",
       "    <tr>\n",
       "      <th>941591</th>\n",
       "      <td>1941594</td>\n",
       "      <td>蟲極道蜜団子抗争編 壱ノ巻</td>\n",
       "      <td>0</td>\n",
       "      <td>NaN</td>\n",
       "      <td>Shinjuku forest at night. In the sap taverns o...</td>\n",
       "      <td>30</td>\n",
       "      <td>NaN</td>\n",
       "    </tr>\n",
       "    <tr>\n",
       "      <th>941592</th>\n",
       "      <td>1941595</td>\n",
       "      <td>蟲極道蜜団子抗争編 弐ノ巻</td>\n",
       "      <td>0</td>\n",
       "      <td>NaN</td>\n",
       "      <td>The city that never sleeps, where insects gath...</td>\n",
       "      <td>30</td>\n",
       "      <td>NaN</td>\n",
       "    </tr>\n",
       "    <tr>\n",
       "      <th>941593</th>\n",
       "      <td>1941596</td>\n",
       "      <td>重生</td>\n",
       "      <td>0</td>\n",
       "      <td>NaN</td>\n",
       "      <td>In a world where order has broken down, darkne...</td>\n",
       "      <td>0</td>\n",
       "      <td>NaN</td>\n",
       "    </tr>\n",
       "    <tr>\n",
       "      <th>941594</th>\n",
       "      <td>1941597</td>\n",
       "      <td>青ひげ公の城</td>\n",
       "      <td>0</td>\n",
       "      <td>NaN</td>\n",
       "      <td>NaN</td>\n",
       "      <td>130</td>\n",
       "      <td>NaN</td>\n",
       "    </tr>\n",
       "  </tbody>\n",
       "</table>\n",
       "<p>941595 rows × 7 columns</p>\n",
       "</div>"
      ]
     },
     "execution_count": 6,
     "metadata": {},
     "output_type": "execute_result"
    }
   ],
   "execution_count": 6
  },
  {
   "metadata": {},
   "cell_type": "markdown",
   "source": "# Join the information",
   "id": "2fe1e2df8be60b8"
  },
  {
   "metadata": {},
   "cell_type": "markdown",
   "source": "### Poster",
   "id": "4a23c1a7b25e9383"
  },
  {
   "metadata": {
    "ExecuteTime": {
     "end_time": "2025-01-10T23:47:47.857392Z",
     "start_time": "2025-01-10T23:47:47.459829Z"
    }
   },
   "cell_type": "code",
   "source": "details = details.merge(posters, on=\"id\", how=\"left\")  # Join the posters",
   "id": "db948f90a9d856e8",
   "outputs": [],
   "execution_count": 7
  },
  {
   "metadata": {},
   "cell_type": "markdown",
   "source": "### Genre",
   "id": "5e5dbf36e9d88e4"
  },
  {
   "metadata": {
    "ExecuteTime": {
     "end_time": "2025-01-10T23:48:10.266073Z",
     "start_time": "2025-01-10T23:47:47.919316Z"
    }
   },
   "cell_type": "code",
   "source": [
    "# Group genres by ID and create a unique string for each ID\n",
    "genres_grouped = genres.groupby(\"id\")[\"genre\"].apply(lambda x: \", \".join(x))\n",
    "\n",
    "# Map grouped values to the 'details' ID\n",
    "details[\"genres\"] = details[\"id\"].map(genres_grouped).fillna(\"\")"
   ],
   "id": "e24092c0e87ce6a1",
   "outputs": [],
   "execution_count": 8
  },
  {
   "metadata": {},
   "cell_type": "markdown",
   "source": "### actors",
   "id": "ed2e58f1632a00d2"
  },
  {
   "metadata": {
    "ExecuteTime": {
     "end_time": "2025-01-10T23:52:08.984236Z",
     "start_time": "2025-01-10T23:48:10.275970Z"
    }
   },
   "cell_type": "code",
   "source": [
    "# Convert the ‘name’ and ‘role’ columns into character strings to avoid errors\n",
    "actors[\"name\"] = actors[\"name\"].astype(str)\n",
    "actors[\"role\"] = actors[\"role\"].astype(str)\n",
    "\n",
    "# Group and concatenate the names of actors with their roles\n",
    "actors_grouped = actors.groupby(\"id\", group_keys=False).apply(\n",
    "    lambda x: \", \".join(x[\"name\"] + \" (\" + x[\"role\"] + \")\")\n",
    ")\n",
    "details[\"actors\"] = details[\"id\"].map(actors_grouped).fillna(\"\")\n",
    "\n"
   ],
   "id": "d67156f1df796c1c",
   "outputs": [
    {
     "name": "stderr",
     "output_type": "stream",
     "text": [
      "C:\\Users\\mathi\\AppData\\Local\\Temp\\ipykernel_81936\\1765880909.py:6: DeprecationWarning: DataFrameGroupBy.apply operated on the grouping columns. This behavior is deprecated, and in a future version of pandas the grouping columns will be excluded from the operation. Either pass `include_groups=False` to exclude the groupings or explicitly select the grouping columns after groupby to silence this warning.\n",
      "  actors_grouped = actors.groupby(\"id\", group_keys=False).apply(\n"
     ]
    }
   ],
   "execution_count": 9
  },
  {
   "metadata": {},
   "cell_type": "markdown",
   "source": "### crew",
   "id": "ad04e363f351d477"
  },
  {
   "metadata": {
    "ExecuteTime": {
     "end_time": "2025-01-10T23:57:35.385421Z",
     "start_time": "2025-01-10T23:52:09.047271Z"
    }
   },
   "cell_type": "code",
   "source": [
    "crew[\"name\"] = crew[\"name\"].astype(str)\n",
    "crew[\"role\"] = crew[\"role\"].astype(str)\n",
    "\n",
    "crew_grouped = crew.groupby(\"id\", group_keys=False).apply(lambda x: \", \".join(x[\"name\"] + \" (\" + x[\"role\"] + \")\"))\n",
    "details[\"crew\"] = details[\"id\"].map(crew_grouped).fillna(\"\")"
   ],
   "id": "c31dfa7be5a3cccd",
   "outputs": [
    {
     "name": "stderr",
     "output_type": "stream",
     "text": [
      "C:\\Users\\mathi\\AppData\\Local\\Temp\\ipykernel_81936\\2234485808.py:4: DeprecationWarning: DataFrameGroupBy.apply operated on the grouping columns. This behavior is deprecated, and in a future version of pandas the grouping columns will be excluded from the operation. Either pass `include_groups=False` to exclude the groupings or explicitly select the grouping columns after groupby to silence this warning.\n",
      "  crew_grouped = crew.groupby(\"id\", group_keys=False).apply(lambda x: \", \".join(x[\"name\"] + \" (\" + x[\"role\"] + \")\"))\n"
     ]
    }
   ],
   "execution_count": 10
  },
  {
   "metadata": {},
   "cell_type": "markdown",
   "source": "### country",
   "id": "5848facd08379965"
  },
  {
   "metadata": {
    "ExecuteTime": {
     "end_time": "2025-01-10T23:57:50.896156Z",
     "start_time": "2025-01-10T23:57:35.748330Z"
    }
   },
   "cell_type": "code",
   "source": [
    "countries_grouped = countries.groupby(\"id\")[\"country\"].apply(lambda x: \", \".join(x))\n",
    "details[\"countries\"] = details[\"id\"].map(countries_grouped).fillna(\"\")"
   ],
   "id": "9bbefb4ad056c387",
   "outputs": [],
   "execution_count": 11
  },
  {
   "metadata": {},
   "cell_type": "markdown",
   "source": "### languages",
   "id": "1e9e021d5e4fdfdc"
  },
  {
   "metadata": {
    "ExecuteTime": {
     "end_time": "2025-01-11T00:03:05.699517Z",
     "start_time": "2025-01-10T23:57:50.931867Z"
    }
   },
   "cell_type": "code",
   "source": [
    "languages_grouped = languages.groupby(\"id\", group_keys=False).apply(\n",
    "    lambda x: \", \".join(x[\"language\"] + \" (\" + x[\"type\"] + \")\")\n",
    ")\n",
    "details[\"languages\"] = details[\"id\"].map(languages_grouped).fillna(\"\")"
   ],
   "id": "baf5041641e961ae",
   "outputs": [
    {
     "name": "stderr",
     "output_type": "stream",
     "text": [
      "C:\\Users\\mathi\\AppData\\Local\\Temp\\ipykernel_81936\\1045633567.py:1: DeprecationWarning: DataFrameGroupBy.apply operated on the grouping columns. This behavior is deprecated, and in a future version of pandas the grouping columns will be excluded from the operation. Either pass `include_groups=False` to exclude the groupings or explicitly select the grouping columns after groupby to silence this warning.\n",
      "  languages_grouped = languages.groupby(\"id\", group_keys=False).apply(\n"
     ]
    }
   ],
   "execution_count": 12
  },
  {
   "metadata": {},
   "cell_type": "markdown",
   "source": "### releases",
   "id": "88f5133e2fb982b4"
  },
  {
   "metadata": {
    "ExecuteTime": {
     "end_time": "2025-01-11T00:11:41.621852Z",
     "start_time": "2025-01-11T00:03:05.802122Z"
    }
   },
   "cell_type": "code",
   "source": [
    "releases_grouped = releases.groupby(\"id\", group_keys=False).apply(\n",
    "    lambda x: \", \".join(x[\"date\"] + \" in \" + x[\"country\"] + \" (\" + x[\"type\"] + \")\")\n",
    ")\n",
    "details[\"releases\"] = details[\"id\"].map(releases_grouped).fillna(\"\")\n"
   ],
   "id": "d1994c4e68e4e2ce",
   "outputs": [
    {
     "name": "stderr",
     "output_type": "stream",
     "text": [
      "C:\\Users\\mathi\\AppData\\Local\\Temp\\ipykernel_81936\\2242179738.py:1: DeprecationWarning: DataFrameGroupBy.apply operated on the grouping columns. This behavior is deprecated, and in a future version of pandas the grouping columns will be excluded from the operation. Either pass `include_groups=False` to exclude the groupings or explicitly select the grouping columns after groupby to silence this warning.\n",
      "  releases_grouped = releases.groupby(\"id\", group_keys=False).apply(\n"
     ]
    }
   ],
   "execution_count": 13
  },
  {
   "metadata": {},
   "cell_type": "markdown",
   "source": "### Studios",
   "id": "c43f2188f3567af7"
  },
  {
   "metadata": {
    "ExecuteTime": {
     "end_time": "2025-01-11T00:12:15.171463Z",
     "start_time": "2025-01-11T00:11:42.901448Z"
    }
   },
   "cell_type": "code",
   "source": [
    "studios[\"studio\"] = studios[\"studio\"].astype(str)\n",
    "studios_grouped = studios.groupby(\"id\").apply(\n",
    "    lambda x: \", \".join(x[\"studio\"])\n",
    ")\n",
    "details[\"studios\"] = details[\"id\"].map(studios_grouped).fillna(\"\")"
   ],
   "id": "94f2c3538e9ca59",
   "outputs": [
    {
     "name": "stderr",
     "output_type": "stream",
     "text": [
      "C:\\Users\\mathi\\AppData\\Local\\Temp\\ipykernel_81936\\280089450.py:2: DeprecationWarning: DataFrameGroupBy.apply operated on the grouping columns. This behavior is deprecated, and in a future version of pandas the grouping columns will be excluded from the operation. Either pass `include_groups=False` to exclude the groupings or explicitly select the grouping columns after groupby to silence this warning.\n",
      "  studios_grouped = studios.groupby(\"id\").apply(\n"
     ]
    }
   ],
   "execution_count": 14
  },
  {
   "metadata": {},
   "cell_type": "markdown",
   "source": "### Themes",
   "id": "9764f284340b6792"
  },
  {
   "metadata": {
    "ExecuteTime": {
     "end_time": "2025-01-11T00:12:17.563270Z",
     "start_time": "2025-01-11T00:12:15.502676Z"
    }
   },
   "cell_type": "code",
   "source": [
    "themes_grouped = themes.groupby(\"id\", group_keys=False).apply(\n",
    "    lambda x: \", \".join(x[\"theme\"])\n",
    ")\n",
    "details[\"themes\"] = details[\"id\"].map(themes_grouped).fillna(\"\")"
   ],
   "id": "30558d4c5bd427ab",
   "outputs": [
    {
     "name": "stderr",
     "output_type": "stream",
     "text": [
      "C:\\Users\\mathi\\AppData\\Local\\Temp\\ipykernel_81936\\764230616.py:1: DeprecationWarning: DataFrameGroupBy.apply operated on the grouping columns. This behavior is deprecated, and in a future version of pandas the grouping columns will be excluded from the operation. Either pass `include_groups=False` to exclude the groupings or explicitly select the grouping columns after groupby to silence this warning.\n",
      "  themes_grouped = themes.groupby(\"id\", group_keys=False).apply(\n"
     ]
    }
   ],
   "execution_count": 15
  },
  {
   "metadata": {
    "ExecuteTime": {
     "end_time": "2025-01-11T00:12:17.696206Z",
     "start_time": "2025-01-11T00:12:17.666492Z"
    }
   },
   "cell_type": "code",
   "source": "details",
   "id": "e68c2ba07b41ebc7",
   "outputs": [
    {
     "data": {
      "text/plain": [
       "             id                               name  date  \\\n",
       "0       1000001                             Barbie  2023   \n",
       "1       1000002                           Parasite  2019   \n",
       "2       1000003  Everything Everywhere All at Once  2022   \n",
       "3       1000004                         Fight Club  1999   \n",
       "4       1000005                         La La Land  2016   \n",
       "...         ...                                ...   ...   \n",
       "941590  1941593                                 神笛     0   \n",
       "941591  1941594                      蟲極道蜜団子抗争編 壱ノ巻     0   \n",
       "941592  1941595                      蟲極道蜜団子抗争編 弐ノ巻     0   \n",
       "941593  1941596                                 重生     0   \n",
       "941594  1941597                             青ひげ公の城     0   \n",
       "\n",
       "                                                 tagline  \\\n",
       "0                       She's everything. He's just Ken.   \n",
       "1                            Act like you own the place.   \n",
       "2       The universe is so much bigger than you realize.   \n",
       "3                                Mischief. Mayhem. Soap.   \n",
       "4                         Here's to the fools who dream.   \n",
       "...                                                  ...   \n",
       "941590                                               NaN   \n",
       "941591                                               NaN   \n",
       "941592                                               NaN   \n",
       "941593                                               NaN   \n",
       "941594                                               NaN   \n",
       "\n",
       "                                              description  minute  rating  \\\n",
       "0       Barbie and Ken are having the time of their li...     114    3.86   \n",
       "1       All unemployed, Ki-taek's family takes peculia...     133    4.56   \n",
       "2       An aging Chinese immigrant is swept up in an i...     140    4.30   \n",
       "3       A ticking-time-bomb insomniac and a slippery s...     139    4.27   \n",
       "4       Mia, an aspiring actress, serves lattes to mov...     129    4.09   \n",
       "...                                                   ...     ...     ...   \n",
       "941590                                                NaN       0     NaN   \n",
       "941591  Shinjuku forest at night. In the sap taverns o...      30     NaN   \n",
       "941592  The city that never sleeps, where insects gath...      30     NaN   \n",
       "941593  In a world where order has broken down, darkne...       0     NaN   \n",
       "941594                                                NaN     130     NaN   \n",
       "\n",
       "                                                     link  \\\n",
       "0       https://a.ltrbxd.com/resized/film-poster/2/7/7...   \n",
       "1       https://a.ltrbxd.com/resized/film-poster/4/2/6...   \n",
       "2       https://a.ltrbxd.com/resized/film-poster/4/7/4...   \n",
       "3       https://a.ltrbxd.com/resized/film-poster/5/1/5...   \n",
       "4       https://a.ltrbxd.com/resized/film-poster/2/4/0...   \n",
       "...                                                   ...   \n",
       "941590                                                NaN   \n",
       "941591                                                NaN   \n",
       "941592  https://a.ltrbxd.com/resized/film-poster/1/1/8...   \n",
       "941593  https://a.ltrbxd.com/resized/film-poster/1/1/8...   \n",
       "941594                                                NaN   \n",
       "\n",
       "                                            genres  \\\n",
       "0                                Comedy, Adventure   \n",
       "1                          Comedy, Thriller, Drama   \n",
       "2       Science Fiction, Adventure, Comedy, Action   \n",
       "3                                            Drama   \n",
       "4                    Drama, Comedy, Music, Romance   \n",
       "...                                            ...   \n",
       "941590                                               \n",
       "941591                                               \n",
       "941592                                               \n",
       "941593                               Action, Crime   \n",
       "941594                                               \n",
       "\n",
       "                                                   actors  \\\n",
       "0       Margot Robbie (Barbie), Ryan Gosling (Ken), Am...   \n",
       "1       Song Kang-ho (Kim Ki-taek), Lee Sun-kyun (Park...   \n",
       "2       Michelle Yeoh (Evelyn Wang), Ke Huy Quan (Waym...   \n",
       "3       Edward Norton (Narrator), Brad Pitt (Tyler Dur...   \n",
       "4       Ryan Gosling (Sebastian), Emma Stone (Mia), Jo...   \n",
       "...                                                   ...   \n",
       "941590                                                      \n",
       "941591                                                      \n",
       "941592                                                      \n",
       "941593  Nick Cheung (Zhang Yao/张耀), Ethan Juan (An Du/...   \n",
       "941594          Hiroshi Mikami (nan), Keiko Oginome (nan)   \n",
       "\n",
       "                                                     crew       countries  \\\n",
       "0       Greta Gerwig (Director), Tom Ackerley (Produce...         UK, USA   \n",
       "1       Bong Joon-ho (Director), Jang Young-hwan (Prod...     South Korea   \n",
       "2       Daniel Scheinert (Director), Daniel Kwan (Dire...             USA   \n",
       "3       David Fincher (Director), Ross Grayson Bell (P...    Germany, USA   \n",
       "4       Damien Chazelle (Director), Jordan Horowitz (P...  Hong Kong, USA   \n",
       "...                                                   ...             ...   \n",
       "941590                                                              China   \n",
       "941591                                                                USA   \n",
       "941592                                                                USA   \n",
       "941593  Marc Ma (Director), 朱子亮 (Producer), Marc Ma (W...           China   \n",
       "941594                                                              Japan   \n",
       "\n",
       "                                                languages  \\\n",
       "0                                      English (Language)   \n",
       "1       Korean (Primary language), English (Spoken lan...   \n",
       "2       English (Primary language), Cantonese (Spoken ...   \n",
       "3                                      English (Language)   \n",
       "4                                      English (Language)   \n",
       "...                                                   ...   \n",
       "941590                                 Chinese (Language)   \n",
       "941591                                 English (Language)   \n",
       "941592                                 English (Language)   \n",
       "941593                                 Chinese (Language)   \n",
       "941594                                Japanese (Language)   \n",
       "\n",
       "                                                 releases  \\\n",
       "0       2023-07-21 in Andorra (Theatrical), 2023-07-20...   \n",
       "1       2019-11-10 in Argentina (Premiere), 2020-01-23...   \n",
       "2       2022-06-09 in Argentina (Theatrical), 2022-03-...   \n",
       "3       1999-11-04 in Argentina (Theatrical), 1999-11-...   \n",
       "4       2016-12-22 in Argentina (Theatrical), 2016-12-...   \n",
       "...                                                   ...   \n",
       "941590                                                      \n",
       "941591                                                      \n",
       "941592                                                      \n",
       "941593                                                      \n",
       "941594                                                      \n",
       "\n",
       "                                                  studios  \\\n",
       "0       LuckyChap Entertainment, Heyday Films, NB/GG P...   \n",
       "1                                            Barunson E&A   \n",
       "2       IAC Films, AGBO, Ley Line Entertainment, Year ...   \n",
       "3       Fox 2000 Pictures, Regency Enterprises, The Li...   \n",
       "4       Summit Entertainment, Black Label Media, Gilbe...   \n",
       "...                                                   ...   \n",
       "941590                                                      \n",
       "941591                                                      \n",
       "941592                                                      \n",
       "941593  上海猫眼影业有限公司, 坏小子（北京）传媒有限公司, 亚太国影（重庆）文化传媒有限公司, 凤...   \n",
       "941594                                                      \n",
       "\n",
       "                                                   themes  \n",
       "0       Humanity and the world around us, Crude humor ...  \n",
       "1       Humanity and the world around us, Intense viol...  \n",
       "2       Humanity and the world around us, Moving relat...  \n",
       "3       Intense violence and sexual transgression, Hum...  \n",
       "4       Song and dance, Humanity and the world around ...  \n",
       "...                                                   ...  \n",
       "941590                                                     \n",
       "941591                                                     \n",
       "941592                                                     \n",
       "941593                                                     \n",
       "941594                                                     \n",
       "\n",
       "[941595 rows x 16 columns]"
      ],
      "text/html": [
       "<div>\n",
       "<style scoped>\n",
       "    .dataframe tbody tr th:only-of-type {\n",
       "        vertical-align: middle;\n",
       "    }\n",
       "\n",
       "    .dataframe tbody tr th {\n",
       "        vertical-align: top;\n",
       "    }\n",
       "\n",
       "    .dataframe thead th {\n",
       "        text-align: right;\n",
       "    }\n",
       "</style>\n",
       "<table border=\"1\" class=\"dataframe\">\n",
       "  <thead>\n",
       "    <tr style=\"text-align: right;\">\n",
       "      <th></th>\n",
       "      <th>id</th>\n",
       "      <th>name</th>\n",
       "      <th>date</th>\n",
       "      <th>tagline</th>\n",
       "      <th>description</th>\n",
       "      <th>minute</th>\n",
       "      <th>rating</th>\n",
       "      <th>link</th>\n",
       "      <th>genres</th>\n",
       "      <th>actors</th>\n",
       "      <th>crew</th>\n",
       "      <th>countries</th>\n",
       "      <th>languages</th>\n",
       "      <th>releases</th>\n",
       "      <th>studios</th>\n",
       "      <th>themes</th>\n",
       "    </tr>\n",
       "  </thead>\n",
       "  <tbody>\n",
       "    <tr>\n",
       "      <th>0</th>\n",
       "      <td>1000001</td>\n",
       "      <td>Barbie</td>\n",
       "      <td>2023</td>\n",
       "      <td>She's everything. He's just Ken.</td>\n",
       "      <td>Barbie and Ken are having the time of their li...</td>\n",
       "      <td>114</td>\n",
       "      <td>3.86</td>\n",
       "      <td>https://a.ltrbxd.com/resized/film-poster/2/7/7...</td>\n",
       "      <td>Comedy, Adventure</td>\n",
       "      <td>Margot Robbie (Barbie), Ryan Gosling (Ken), Am...</td>\n",
       "      <td>Greta Gerwig (Director), Tom Ackerley (Produce...</td>\n",
       "      <td>UK, USA</td>\n",
       "      <td>English (Language)</td>\n",
       "      <td>2023-07-21 in Andorra (Theatrical), 2023-07-20...</td>\n",
       "      <td>LuckyChap Entertainment, Heyday Films, NB/GG P...</td>\n",
       "      <td>Humanity and the world around us, Crude humor ...</td>\n",
       "    </tr>\n",
       "    <tr>\n",
       "      <th>1</th>\n",
       "      <td>1000002</td>\n",
       "      <td>Parasite</td>\n",
       "      <td>2019</td>\n",
       "      <td>Act like you own the place.</td>\n",
       "      <td>All unemployed, Ki-taek's family takes peculia...</td>\n",
       "      <td>133</td>\n",
       "      <td>4.56</td>\n",
       "      <td>https://a.ltrbxd.com/resized/film-poster/4/2/6...</td>\n",
       "      <td>Comedy, Thriller, Drama</td>\n",
       "      <td>Song Kang-ho (Kim Ki-taek), Lee Sun-kyun (Park...</td>\n",
       "      <td>Bong Joon-ho (Director), Jang Young-hwan (Prod...</td>\n",
       "      <td>South Korea</td>\n",
       "      <td>Korean (Primary language), English (Spoken lan...</td>\n",
       "      <td>2019-11-10 in Argentina (Premiere), 2020-01-23...</td>\n",
       "      <td>Barunson E&amp;A</td>\n",
       "      <td>Humanity and the world around us, Intense viol...</td>\n",
       "    </tr>\n",
       "    <tr>\n",
       "      <th>2</th>\n",
       "      <td>1000003</td>\n",
       "      <td>Everything Everywhere All at Once</td>\n",
       "      <td>2022</td>\n",
       "      <td>The universe is so much bigger than you realize.</td>\n",
       "      <td>An aging Chinese immigrant is swept up in an i...</td>\n",
       "      <td>140</td>\n",
       "      <td>4.30</td>\n",
       "      <td>https://a.ltrbxd.com/resized/film-poster/4/7/4...</td>\n",
       "      <td>Science Fiction, Adventure, Comedy, Action</td>\n",
       "      <td>Michelle Yeoh (Evelyn Wang), Ke Huy Quan (Waym...</td>\n",
       "      <td>Daniel Scheinert (Director), Daniel Kwan (Dire...</td>\n",
       "      <td>USA</td>\n",
       "      <td>English (Primary language), Cantonese (Spoken ...</td>\n",
       "      <td>2022-06-09 in Argentina (Theatrical), 2022-03-...</td>\n",
       "      <td>IAC Films, AGBO, Ley Line Entertainment, Year ...</td>\n",
       "      <td>Humanity and the world around us, Moving relat...</td>\n",
       "    </tr>\n",
       "    <tr>\n",
       "      <th>3</th>\n",
       "      <td>1000004</td>\n",
       "      <td>Fight Club</td>\n",
       "      <td>1999</td>\n",
       "      <td>Mischief. Mayhem. Soap.</td>\n",
       "      <td>A ticking-time-bomb insomniac and a slippery s...</td>\n",
       "      <td>139</td>\n",
       "      <td>4.27</td>\n",
       "      <td>https://a.ltrbxd.com/resized/film-poster/5/1/5...</td>\n",
       "      <td>Drama</td>\n",
       "      <td>Edward Norton (Narrator), Brad Pitt (Tyler Dur...</td>\n",
       "      <td>David Fincher (Director), Ross Grayson Bell (P...</td>\n",
       "      <td>Germany, USA</td>\n",
       "      <td>English (Language)</td>\n",
       "      <td>1999-11-04 in Argentina (Theatrical), 1999-11-...</td>\n",
       "      <td>Fox 2000 Pictures, Regency Enterprises, The Li...</td>\n",
       "      <td>Intense violence and sexual transgression, Hum...</td>\n",
       "    </tr>\n",
       "    <tr>\n",
       "      <th>4</th>\n",
       "      <td>1000005</td>\n",
       "      <td>La La Land</td>\n",
       "      <td>2016</td>\n",
       "      <td>Here's to the fools who dream.</td>\n",
       "      <td>Mia, an aspiring actress, serves lattes to mov...</td>\n",
       "      <td>129</td>\n",
       "      <td>4.09</td>\n",
       "      <td>https://a.ltrbxd.com/resized/film-poster/2/4/0...</td>\n",
       "      <td>Drama, Comedy, Music, Romance</td>\n",
       "      <td>Ryan Gosling (Sebastian), Emma Stone (Mia), Jo...</td>\n",
       "      <td>Damien Chazelle (Director), Jordan Horowitz (P...</td>\n",
       "      <td>Hong Kong, USA</td>\n",
       "      <td>English (Language)</td>\n",
       "      <td>2016-12-22 in Argentina (Theatrical), 2016-12-...</td>\n",
       "      <td>Summit Entertainment, Black Label Media, Gilbe...</td>\n",
       "      <td>Song and dance, Humanity and the world around ...</td>\n",
       "    </tr>\n",
       "    <tr>\n",
       "      <th>...</th>\n",
       "      <td>...</td>\n",
       "      <td>...</td>\n",
       "      <td>...</td>\n",
       "      <td>...</td>\n",
       "      <td>...</td>\n",
       "      <td>...</td>\n",
       "      <td>...</td>\n",
       "      <td>...</td>\n",
       "      <td>...</td>\n",
       "      <td>...</td>\n",
       "      <td>...</td>\n",
       "      <td>...</td>\n",
       "      <td>...</td>\n",
       "      <td>...</td>\n",
       "      <td>...</td>\n",
       "      <td>...</td>\n",
       "    </tr>\n",
       "    <tr>\n",
       "      <th>941590</th>\n",
       "      <td>1941593</td>\n",
       "      <td>神笛</td>\n",
       "      <td>0</td>\n",
       "      <td>NaN</td>\n",
       "      <td>NaN</td>\n",
       "      <td>0</td>\n",
       "      <td>NaN</td>\n",
       "      <td>NaN</td>\n",
       "      <td></td>\n",
       "      <td></td>\n",
       "      <td></td>\n",
       "      <td>China</td>\n",
       "      <td>Chinese (Language)</td>\n",
       "      <td></td>\n",
       "      <td></td>\n",
       "      <td></td>\n",
       "    </tr>\n",
       "    <tr>\n",
       "      <th>941591</th>\n",
       "      <td>1941594</td>\n",
       "      <td>蟲極道蜜団子抗争編 壱ノ巻</td>\n",
       "      <td>0</td>\n",
       "      <td>NaN</td>\n",
       "      <td>Shinjuku forest at night. In the sap taverns o...</td>\n",
       "      <td>30</td>\n",
       "      <td>NaN</td>\n",
       "      <td>NaN</td>\n",
       "      <td></td>\n",
       "      <td></td>\n",
       "      <td></td>\n",
       "      <td>USA</td>\n",
       "      <td>English (Language)</td>\n",
       "      <td></td>\n",
       "      <td></td>\n",
       "      <td></td>\n",
       "    </tr>\n",
       "    <tr>\n",
       "      <th>941592</th>\n",
       "      <td>1941595</td>\n",
       "      <td>蟲極道蜜団子抗争編 弐ノ巻</td>\n",
       "      <td>0</td>\n",
       "      <td>NaN</td>\n",
       "      <td>The city that never sleeps, where insects gath...</td>\n",
       "      <td>30</td>\n",
       "      <td>NaN</td>\n",
       "      <td>https://a.ltrbxd.com/resized/film-poster/1/1/8...</td>\n",
       "      <td></td>\n",
       "      <td></td>\n",
       "      <td></td>\n",
       "      <td>USA</td>\n",
       "      <td>English (Language)</td>\n",
       "      <td></td>\n",
       "      <td></td>\n",
       "      <td></td>\n",
       "    </tr>\n",
       "    <tr>\n",
       "      <th>941593</th>\n",
       "      <td>1941596</td>\n",
       "      <td>重生</td>\n",
       "      <td>0</td>\n",
       "      <td>NaN</td>\n",
       "      <td>In a world where order has broken down, darkne...</td>\n",
       "      <td>0</td>\n",
       "      <td>NaN</td>\n",
       "      <td>https://a.ltrbxd.com/resized/film-poster/1/1/8...</td>\n",
       "      <td>Action, Crime</td>\n",
       "      <td>Nick Cheung (Zhang Yao/张耀), Ethan Juan (An Du/...</td>\n",
       "      <td>Marc Ma (Director), 朱子亮 (Producer), Marc Ma (W...</td>\n",
       "      <td>China</td>\n",
       "      <td>Chinese (Language)</td>\n",
       "      <td></td>\n",
       "      <td>上海猫眼影业有限公司, 坏小子（北京）传媒有限公司, 亚太国影（重庆）文化传媒有限公司, 凤...</td>\n",
       "      <td></td>\n",
       "    </tr>\n",
       "    <tr>\n",
       "      <th>941594</th>\n",
       "      <td>1941597</td>\n",
       "      <td>青ひげ公の城</td>\n",
       "      <td>0</td>\n",
       "      <td>NaN</td>\n",
       "      <td>NaN</td>\n",
       "      <td>130</td>\n",
       "      <td>NaN</td>\n",
       "      <td>NaN</td>\n",
       "      <td></td>\n",
       "      <td>Hiroshi Mikami (nan), Keiko Oginome (nan)</td>\n",
       "      <td></td>\n",
       "      <td>Japan</td>\n",
       "      <td>Japanese (Language)</td>\n",
       "      <td></td>\n",
       "      <td></td>\n",
       "      <td></td>\n",
       "    </tr>\n",
       "  </tbody>\n",
       "</table>\n",
       "<p>941595 rows × 16 columns</p>\n",
       "</div>"
      ]
     },
     "execution_count": 16,
     "metadata": {},
     "output_type": "execute_result"
    }
   ],
   "execution_count": 16
  },
  {
   "metadata": {
    "ExecuteTime": {
     "end_time": "2025-01-11T00:12:17.983088Z",
     "start_time": "2025-01-11T00:12:17.961425Z"
    }
   },
   "cell_type": "code",
   "source": "details.dtypes",
   "id": "44d2a1464afb7779",
   "outputs": [
    {
     "data": {
      "text/plain": [
       "id               int64\n",
       "name            object\n",
       "date             int32\n",
       "tagline         object\n",
       "description     object\n",
       "minute           int32\n",
       "rating         float64\n",
       "link            object\n",
       "genres          object\n",
       "actors          object\n",
       "crew            object\n",
       "countries       object\n",
       "languages       object\n",
       "releases        object\n",
       "studios         object\n",
       "themes          object\n",
       "dtype: object"
      ]
     },
     "execution_count": 17,
     "metadata": {},
     "output_type": "execute_result"
    }
   ],
   "execution_count": 17
  },
  {
   "metadata": {},
   "cell_type": "markdown",
   "source": "## Save the file with all the film information",
   "id": "d9430d49920e4860"
  },
  {
   "metadata": {
    "ExecuteTime": {
     "end_time": "2025-01-11T00:13:03.444915Z",
     "start_time": "2025-01-11T00:12:18.017987Z"
    }
   },
   "cell_type": "code",
   "source": [
    "details.to_csv(\"details_movie.csv\", index=False, sep=';')\n",
    "\n",
    "print(\"Consolidated file ‘details_movie.csv’ created successfully.\")"
   ],
   "id": "fbc121e30a2defb3",
   "outputs": [
    {
     "name": "stdout",
     "output_type": "stream",
     "text": [
      "Consolidated file ‘details_movie.csv’ created successfully.\n"
     ]
    }
   ],
   "execution_count": 18
  }
 ],
 "metadata": {
  "kernelspec": {
   "display_name": "Python 3",
   "language": "python",
   "name": "python3"
  },
  "language_info": {
   "codemirror_mode": {
    "name": "ipython",
    "version": 2
   },
   "file_extension": ".py",
   "mimetype": "text/x-python",
   "name": "python",
   "nbconvert_exporter": "python",
   "pygments_lexer": "ipython2",
   "version": "2.7.6"
  }
 },
 "nbformat": 4,
 "nbformat_minor": 5
}
