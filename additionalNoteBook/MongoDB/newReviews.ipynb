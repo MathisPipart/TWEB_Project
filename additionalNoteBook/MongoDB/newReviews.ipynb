{
 "cells": [
  {
   "metadata": {},
   "cell_type": "markdown",
   "source": "# Notebook for Rotten Tomatoes reviews adapted to our site",
   "id": "8a77807f92f26ee"
  },
  {
   "metadata": {
    "ExecuteTime": {
     "end_time": "2025-01-10T22:53:25.150089Z",
     "start_time": "2025-01-10T22:53:25.144555Z"
    }
   },
   "cell_type": "code",
   "source": "import pandas as pd",
   "id": "d16d4ae97a188aa7",
   "outputs": [],
   "execution_count": 53
  },
  {
   "metadata": {},
   "cell_type": "markdown",
   "source": "## Load the two CSV files : movies.csv and reviews.csv, in a dataframe",
   "id": "6692f67919c9b4d6"
  },
  {
   "metadata": {
    "ExecuteTime": {
     "end_time": "2025-01-10T22:53:33.699173Z",
     "start_time": "2025-01-10T22:53:25.186428Z"
    }
   },
   "cell_type": "code",
   "source": [
    "movies_csv_path = \"data/movies.csv\"\n",
    "reviews_csv_path = \"data/reviews.csv\"\n",
    "\n",
    "movies_df = pd.read_csv(movies_csv_path)\n",
    "reviews_df = pd.read_csv(reviews_csv_path)"
   ],
   "id": "a767b9ce4fc4fb46",
   "outputs": [],
   "execution_count": 54
  },
  {
   "metadata": {},
   "cell_type": "markdown",
   "source": "## Merge the two DataFrames into a common key (film title)",
   "id": "b6642391a98d40a3"
  },
  {
   "metadata": {
    "ExecuteTime": {
     "end_time": "2025-01-10T22:53:39.249173Z",
     "start_time": "2025-01-10T22:53:33.735757Z"
    }
   },
   "cell_type": "code",
   "source": [
    "merged_df = reviews_df.merge(\n",
    "    movies_df,\n",
    "    left_on=\"movie_title\",  # Reviews file column\n",
    "    right_on=\"name\",  # Column in movies file\n",
    "    how=\"inner\"  # Merge matches only\n",
    ")"
   ],
   "id": "21fb7dd8143b643c",
   "outputs": [],
   "execution_count": 55
  },
  {
   "metadata": {},
   "cell_type": "markdown",
   "source": "## Select only the columns you need",
   "id": "8eb8cae6b9b5bd7c"
  },
  {
   "metadata": {
    "ExecuteTime": {
     "end_time": "2025-01-10T22:53:39.620747Z",
     "start_time": "2025-01-10T22:53:39.328600Z"
    }
   },
   "cell_type": "code",
   "source": [
    "final_df = merged_df[[\n",
    "    \"id\",                \n",
    "    \"critic_name\",       \n",
    "    \"review_content\",    \n",
    "    \"review_date\"        \n",
    "]]"
   ],
   "id": "a765f40019b7ef3e",
   "outputs": [],
   "execution_count": 56
  },
  {
   "metadata": {},
   "cell_type": "markdown",
   "source": "## Check that columns do not contain empty values",
   "id": "7484d5fc9211683f"
  },
  {
   "metadata": {
    "ExecuteTime": {
     "end_time": "2025-01-10T22:53:41.689755Z",
     "start_time": "2025-01-10T22:53:39.697828Z"
    }
   },
   "cell_type": "code",
   "source": [
    "if final_df.isnull().any().any():\n",
    "    print(final_df.isnull().sum())\n",
    "    final_df = final_df.dropna()\n",
    "    \n",
    "# Rename the columns to match the desired structure\n",
    "final_df.columns = [\"room\", \"userId\", \"message\", \"timestamp\"]"
   ],
   "id": "847177c6d9cdc5eb",
   "outputs": [
    {
     "name": "stdout",
     "output_type": "stream",
     "text": [
      "id                     0\n",
      "critic_name        57296\n",
      "review_content    205150\n",
      "review_date            0\n",
      "dtype: int64\n"
     ]
    }
   ],
   "execution_count": 57
  },
  {
   "metadata": {},
   "cell_type": "markdown",
   "source": "Sort the DataFrame by id (room) in ascending order",
   "id": "84ba9d408ec0d09c"
  },
  {
   "metadata": {
    "ExecuteTime": {
     "end_time": "2025-01-10T22:53:42.625746Z",
     "start_time": "2025-01-10T22:53:41.724847Z"
    }
   },
   "cell_type": "code",
   "source": "final_df = final_df.sort_values(by=\"room\")",
   "id": "bdb1939d26dfae63",
   "outputs": [],
   "execution_count": 58
  },
  {
   "metadata": {},
   "cell_type": "markdown",
   "source": "# Add a column `__v` with the value 0 for each row to match mongoDB",
   "id": "40f7dbd0c4d3257c"
  },
  {
   "metadata": {
    "ExecuteTime": {
     "end_time": "2025-01-10T22:53:42.675413Z",
     "start_time": "2025-01-10T22:53:42.656203Z"
    }
   },
   "cell_type": "code",
   "source": "final_df[\"__v\"] = 0",
   "id": "64c916833d77bf63",
   "outputs": [],
   "execution_count": 59
  },
  {
   "metadata": {},
   "cell_type": "markdown",
   "source": "## Comparison between the initial and final reviews",
   "id": "c5910a57d5603b88"
  },
  {
   "metadata": {
    "ExecuteTime": {
     "end_time": "2025-01-10T22:53:42.789468Z",
     "start_time": "2025-01-10T22:53:42.754149Z"
    }
   },
   "cell_type": "code",
   "source": "reviews_df",
   "id": "a2366399b5aa69f3",
   "outputs": [
    {
     "data": {
      "text/plain": [
       "        rotten_tomatoes_link  \\\n",
       "0                  m/0814255   \n",
       "1                  m/0814255   \n",
       "2                  m/0814255   \n",
       "3                  m/0814255   \n",
       "4                  m/0814255   \n",
       "...                      ...   \n",
       "1129882          m/zulu_dawn   \n",
       "1129883          m/zulu_dawn   \n",
       "1129884          m/zulu_dawn   \n",
       "1129885          m/zulu_dawn   \n",
       "1129886          m/zulu_dawn   \n",
       "\n",
       "                                               movie_title        critic_name  \\\n",
       "0        Percy Jackson & the Olympians: The Lightning T...    Andrew L. Urban   \n",
       "1        Percy Jackson & the Olympians: The Lightning T...      Louise Keller   \n",
       "2        Percy Jackson & the Olympians: The Lightning T...                NaN   \n",
       "3        Percy Jackson & the Olympians: The Lightning T...       Ben McEachen   \n",
       "4        Percy Jackson & the Olympians: The Lightning T...        Ethan Alter   \n",
       "...                                                    ...                ...   \n",
       "1129882                                          Zulu Dawn      Chuck O'Leary   \n",
       "1129883                                          Zulu Dawn          Ken Hanke   \n",
       "1129884                                          Zulu Dawn    Dennis Schwartz   \n",
       "1129885                                          Zulu Dawn  Christopher Lloyd   \n",
       "1129886                                          Zulu Dawn     Brent McKnight   \n",
       "\n",
       "         top_critic                   publisher_name review_type review_score  \\\n",
       "0             False                   Urban Cinefile       Fresh          NaN   \n",
       "1             False                   Urban Cinefile       Fresh          NaN   \n",
       "2             False              FILMINK (Australia)       Fresh          NaN   \n",
       "3             False          Sunday Mail (Australia)       Fresh        3.5/5   \n",
       "4              True               Hollywood Reporter      Rotten          NaN   \n",
       "...             ...                              ...         ...          ...   \n",
       "1129882       False                 Fantastica Daily      Rotten          2/5   \n",
       "1129883       False  Mountain Xpress (Asheville, NC)       Fresh        3.5/5   \n",
       "1129884       False    Dennis Schwartz Movie Reviews       Fresh           B+   \n",
       "1129885       False          Sarasota Herald-Tribune      Rotten        3.5/5   \n",
       "1129886       False             The Last Thing I See      Rotten            C   \n",
       "\n",
       "        review_date                                     review_content  \n",
       "0        2010-02-06  A fantasy adventure that fuses Greek mythology...  \n",
       "1        2010-02-06  Uma Thurman as Medusa, the gorgon with a coiff...  \n",
       "2        2010-02-09  With a top-notch cast and dazzling special eff...  \n",
       "3        2010-02-09  Whether audiences will get behind The Lightnin...  \n",
       "4        2010-02-10  What's really lacking in The Lightning Thief i...  \n",
       "...             ...                                                ...  \n",
       "1129882  2005-11-02                                                NaN  \n",
       "1129883  2007-03-07  Seen today, it's not only a startling indictme...  \n",
       "1129884  2010-09-16  A rousing visual spectacle that's a prequel of...  \n",
       "1129885  2011-02-28  A simple two-act story: Prelude to war, and th...  \n",
       "1129886  2020-07-09  Rides the line between being a pure artifact o...  \n",
       "\n",
       "[1129887 rows x 9 columns]"
      ],
      "text/html": [
       "<div>\n",
       "<style scoped>\n",
       "    .dataframe tbody tr th:only-of-type {\n",
       "        vertical-align: middle;\n",
       "    }\n",
       "\n",
       "    .dataframe tbody tr th {\n",
       "        vertical-align: top;\n",
       "    }\n",
       "\n",
       "    .dataframe thead th {\n",
       "        text-align: right;\n",
       "    }\n",
       "</style>\n",
       "<table border=\"1\" class=\"dataframe\">\n",
       "  <thead>\n",
       "    <tr style=\"text-align: right;\">\n",
       "      <th></th>\n",
       "      <th>rotten_tomatoes_link</th>\n",
       "      <th>movie_title</th>\n",
       "      <th>critic_name</th>\n",
       "      <th>top_critic</th>\n",
       "      <th>publisher_name</th>\n",
       "      <th>review_type</th>\n",
       "      <th>review_score</th>\n",
       "      <th>review_date</th>\n",
       "      <th>review_content</th>\n",
       "    </tr>\n",
       "  </thead>\n",
       "  <tbody>\n",
       "    <tr>\n",
       "      <th>0</th>\n",
       "      <td>m/0814255</td>\n",
       "      <td>Percy Jackson &amp; the Olympians: The Lightning T...</td>\n",
       "      <td>Andrew L. Urban</td>\n",
       "      <td>False</td>\n",
       "      <td>Urban Cinefile</td>\n",
       "      <td>Fresh</td>\n",
       "      <td>NaN</td>\n",
       "      <td>2010-02-06</td>\n",
       "      <td>A fantasy adventure that fuses Greek mythology...</td>\n",
       "    </tr>\n",
       "    <tr>\n",
       "      <th>1</th>\n",
       "      <td>m/0814255</td>\n",
       "      <td>Percy Jackson &amp; the Olympians: The Lightning T...</td>\n",
       "      <td>Louise Keller</td>\n",
       "      <td>False</td>\n",
       "      <td>Urban Cinefile</td>\n",
       "      <td>Fresh</td>\n",
       "      <td>NaN</td>\n",
       "      <td>2010-02-06</td>\n",
       "      <td>Uma Thurman as Medusa, the gorgon with a coiff...</td>\n",
       "    </tr>\n",
       "    <tr>\n",
       "      <th>2</th>\n",
       "      <td>m/0814255</td>\n",
       "      <td>Percy Jackson &amp; the Olympians: The Lightning T...</td>\n",
       "      <td>NaN</td>\n",
       "      <td>False</td>\n",
       "      <td>FILMINK (Australia)</td>\n",
       "      <td>Fresh</td>\n",
       "      <td>NaN</td>\n",
       "      <td>2010-02-09</td>\n",
       "      <td>With a top-notch cast and dazzling special eff...</td>\n",
       "    </tr>\n",
       "    <tr>\n",
       "      <th>3</th>\n",
       "      <td>m/0814255</td>\n",
       "      <td>Percy Jackson &amp; the Olympians: The Lightning T...</td>\n",
       "      <td>Ben McEachen</td>\n",
       "      <td>False</td>\n",
       "      <td>Sunday Mail (Australia)</td>\n",
       "      <td>Fresh</td>\n",
       "      <td>3.5/5</td>\n",
       "      <td>2010-02-09</td>\n",
       "      <td>Whether audiences will get behind The Lightnin...</td>\n",
       "    </tr>\n",
       "    <tr>\n",
       "      <th>4</th>\n",
       "      <td>m/0814255</td>\n",
       "      <td>Percy Jackson &amp; the Olympians: The Lightning T...</td>\n",
       "      <td>Ethan Alter</td>\n",
       "      <td>True</td>\n",
       "      <td>Hollywood Reporter</td>\n",
       "      <td>Rotten</td>\n",
       "      <td>NaN</td>\n",
       "      <td>2010-02-10</td>\n",
       "      <td>What's really lacking in The Lightning Thief i...</td>\n",
       "    </tr>\n",
       "    <tr>\n",
       "      <th>...</th>\n",
       "      <td>...</td>\n",
       "      <td>...</td>\n",
       "      <td>...</td>\n",
       "      <td>...</td>\n",
       "      <td>...</td>\n",
       "      <td>...</td>\n",
       "      <td>...</td>\n",
       "      <td>...</td>\n",
       "      <td>...</td>\n",
       "    </tr>\n",
       "    <tr>\n",
       "      <th>1129882</th>\n",
       "      <td>m/zulu_dawn</td>\n",
       "      <td>Zulu Dawn</td>\n",
       "      <td>Chuck O'Leary</td>\n",
       "      <td>False</td>\n",
       "      <td>Fantastica Daily</td>\n",
       "      <td>Rotten</td>\n",
       "      <td>2/5</td>\n",
       "      <td>2005-11-02</td>\n",
       "      <td>NaN</td>\n",
       "    </tr>\n",
       "    <tr>\n",
       "      <th>1129883</th>\n",
       "      <td>m/zulu_dawn</td>\n",
       "      <td>Zulu Dawn</td>\n",
       "      <td>Ken Hanke</td>\n",
       "      <td>False</td>\n",
       "      <td>Mountain Xpress (Asheville, NC)</td>\n",
       "      <td>Fresh</td>\n",
       "      <td>3.5/5</td>\n",
       "      <td>2007-03-07</td>\n",
       "      <td>Seen today, it's not only a startling indictme...</td>\n",
       "    </tr>\n",
       "    <tr>\n",
       "      <th>1129884</th>\n",
       "      <td>m/zulu_dawn</td>\n",
       "      <td>Zulu Dawn</td>\n",
       "      <td>Dennis Schwartz</td>\n",
       "      <td>False</td>\n",
       "      <td>Dennis Schwartz Movie Reviews</td>\n",
       "      <td>Fresh</td>\n",
       "      <td>B+</td>\n",
       "      <td>2010-09-16</td>\n",
       "      <td>A rousing visual spectacle that's a prequel of...</td>\n",
       "    </tr>\n",
       "    <tr>\n",
       "      <th>1129885</th>\n",
       "      <td>m/zulu_dawn</td>\n",
       "      <td>Zulu Dawn</td>\n",
       "      <td>Christopher Lloyd</td>\n",
       "      <td>False</td>\n",
       "      <td>Sarasota Herald-Tribune</td>\n",
       "      <td>Rotten</td>\n",
       "      <td>3.5/5</td>\n",
       "      <td>2011-02-28</td>\n",
       "      <td>A simple two-act story: Prelude to war, and th...</td>\n",
       "    </tr>\n",
       "    <tr>\n",
       "      <th>1129886</th>\n",
       "      <td>m/zulu_dawn</td>\n",
       "      <td>Zulu Dawn</td>\n",
       "      <td>Brent McKnight</td>\n",
       "      <td>False</td>\n",
       "      <td>The Last Thing I See</td>\n",
       "      <td>Rotten</td>\n",
       "      <td>C</td>\n",
       "      <td>2020-07-09</td>\n",
       "      <td>Rides the line between being a pure artifact o...</td>\n",
       "    </tr>\n",
       "  </tbody>\n",
       "</table>\n",
       "<p>1129887 rows × 9 columns</p>\n",
       "</div>"
      ]
     },
     "execution_count": 60,
     "metadata": {},
     "output_type": "execute_result"
    }
   ],
   "execution_count": 60
  },
  {
   "metadata": {
    "ExecuteTime": {
     "end_time": "2025-01-10T22:53:42.931076Z",
     "start_time": "2025-01-10T22:53:42.915877Z"
    }
   },
   "cell_type": "code",
   "source": "final_df",
   "id": "37489461640ce62a",
   "outputs": [
    {
     "data": {
      "text/plain": [
       "            room            userId  \\\n",
       "2109941  1000002      Alex Sandell   \n",
       "2110011  1000002       Mike Massie   \n",
       "2110001  1000002   Dennis Schwartz   \n",
       "2109991  1000002     Variety Staff   \n",
       "2109911  1000002       Film4 Staff   \n",
       "...          ...               ...   \n",
       "3704219  1941533    Charles Mudede   \n",
       "3704225  1941533        Rob Hunter   \n",
       "3704231  1941533        Kim Voynar   \n",
       "3704189  1941533   Erik McClanahan   \n",
       "3704195  1941533  Benjamin Umstead   \n",
       "\n",
       "                                                   message   timestamp  __v  \n",
       "2109941  Makes Demi Moore's later crappy movies look li...  2005-09-28    0  \n",
       "2110011  It's surprising how rapidly the film devolves,...  2020-09-06    0  \n",
       "2110001  A dreadful sci-fi film, that plays to the larg...  2020-07-15    0  \n",
       "2109991  Parasite is lethargic between its terror scene...  2009-03-26    0  \n",
       "2109911  Parasite is one of the genre greats and somewh...  2003-05-24    0  \n",
       "...                                                    ...         ...  ...  \n",
       "3704219  Without is the region's first erotic tour de f...  2020-05-27    0  \n",
       "3704225  This is also Jackson's feature debut, and like...  2020-05-27    0  \n",
       "3704231  Jackson shows a lot of promise as a director, ...  2020-06-11    0  \n",
       "3704189  Watch this film closely, and you will be rewar...  2020-05-22    0  \n",
       "3704195  The tempo of tension is so great that even the...  2020-05-26    0  \n",
       "\n",
       "[3511932 rows x 5 columns]"
      ],
      "text/html": [
       "<div>\n",
       "<style scoped>\n",
       "    .dataframe tbody tr th:only-of-type {\n",
       "        vertical-align: middle;\n",
       "    }\n",
       "\n",
       "    .dataframe tbody tr th {\n",
       "        vertical-align: top;\n",
       "    }\n",
       "\n",
       "    .dataframe thead th {\n",
       "        text-align: right;\n",
       "    }\n",
       "</style>\n",
       "<table border=\"1\" class=\"dataframe\">\n",
       "  <thead>\n",
       "    <tr style=\"text-align: right;\">\n",
       "      <th></th>\n",
       "      <th>room</th>\n",
       "      <th>userId</th>\n",
       "      <th>message</th>\n",
       "      <th>timestamp</th>\n",
       "      <th>__v</th>\n",
       "    </tr>\n",
       "  </thead>\n",
       "  <tbody>\n",
       "    <tr>\n",
       "      <th>2109941</th>\n",
       "      <td>1000002</td>\n",
       "      <td>Alex Sandell</td>\n",
       "      <td>Makes Demi Moore's later crappy movies look li...</td>\n",
       "      <td>2005-09-28</td>\n",
       "      <td>0</td>\n",
       "    </tr>\n",
       "    <tr>\n",
       "      <th>2110011</th>\n",
       "      <td>1000002</td>\n",
       "      <td>Mike Massie</td>\n",
       "      <td>It's surprising how rapidly the film devolves,...</td>\n",
       "      <td>2020-09-06</td>\n",
       "      <td>0</td>\n",
       "    </tr>\n",
       "    <tr>\n",
       "      <th>2110001</th>\n",
       "      <td>1000002</td>\n",
       "      <td>Dennis Schwartz</td>\n",
       "      <td>A dreadful sci-fi film, that plays to the larg...</td>\n",
       "      <td>2020-07-15</td>\n",
       "      <td>0</td>\n",
       "    </tr>\n",
       "    <tr>\n",
       "      <th>2109991</th>\n",
       "      <td>1000002</td>\n",
       "      <td>Variety Staff</td>\n",
       "      <td>Parasite is lethargic between its terror scene...</td>\n",
       "      <td>2009-03-26</td>\n",
       "      <td>0</td>\n",
       "    </tr>\n",
       "    <tr>\n",
       "      <th>2109911</th>\n",
       "      <td>1000002</td>\n",
       "      <td>Film4 Staff</td>\n",
       "      <td>Parasite is one of the genre greats and somewh...</td>\n",
       "      <td>2003-05-24</td>\n",
       "      <td>0</td>\n",
       "    </tr>\n",
       "    <tr>\n",
       "      <th>...</th>\n",
       "      <td>...</td>\n",
       "      <td>...</td>\n",
       "      <td>...</td>\n",
       "      <td>...</td>\n",
       "      <td>...</td>\n",
       "    </tr>\n",
       "    <tr>\n",
       "      <th>3704219</th>\n",
       "      <td>1941533</td>\n",
       "      <td>Charles Mudede</td>\n",
       "      <td>Without is the region's first erotic tour de f...</td>\n",
       "      <td>2020-05-27</td>\n",
       "      <td>0</td>\n",
       "    </tr>\n",
       "    <tr>\n",
       "      <th>3704225</th>\n",
       "      <td>1941533</td>\n",
       "      <td>Rob Hunter</td>\n",
       "      <td>This is also Jackson's feature debut, and like...</td>\n",
       "      <td>2020-05-27</td>\n",
       "      <td>0</td>\n",
       "    </tr>\n",
       "    <tr>\n",
       "      <th>3704231</th>\n",
       "      <td>1941533</td>\n",
       "      <td>Kim Voynar</td>\n",
       "      <td>Jackson shows a lot of promise as a director, ...</td>\n",
       "      <td>2020-06-11</td>\n",
       "      <td>0</td>\n",
       "    </tr>\n",
       "    <tr>\n",
       "      <th>3704189</th>\n",
       "      <td>1941533</td>\n",
       "      <td>Erik McClanahan</td>\n",
       "      <td>Watch this film closely, and you will be rewar...</td>\n",
       "      <td>2020-05-22</td>\n",
       "      <td>0</td>\n",
       "    </tr>\n",
       "    <tr>\n",
       "      <th>3704195</th>\n",
       "      <td>1941533</td>\n",
       "      <td>Benjamin Umstead</td>\n",
       "      <td>The tempo of tension is so great that even the...</td>\n",
       "      <td>2020-05-26</td>\n",
       "      <td>0</td>\n",
       "    </tr>\n",
       "  </tbody>\n",
       "</table>\n",
       "<p>3511932 rows × 5 columns</p>\n",
       "</div>"
      ]
     },
     "execution_count": 61,
     "metadata": {},
     "output_type": "execute_result"
    }
   ],
   "execution_count": 61
  },
  {
   "metadata": {},
   "cell_type": "markdown",
   "source": "## Export the combined DataFrame to a CSV file",
   "id": "9024f31cd285b5e2"
  },
  {
   "metadata": {
    "ExecuteTime": {
     "end_time": "2025-01-10T22:54:00.514024Z",
     "start_time": "2025-01-10T22:53:43.077586Z"
    }
   },
   "cell_type": "code",
   "source": [
    "output_path = \"final_reviews.csv\"\n",
    "final_df.to_csv(output_path, index=False)\n",
    "\n",
    "print(f\"Combined file created : {output_path}\")"
   ],
   "id": "8180de15dabee251",
   "outputs": [
    {
     "name": "stdout",
     "output_type": "stream",
     "text": [
      "Combined file created : final_reviews.csv\n"
     ]
    }
   ],
   "execution_count": 62
  }
 ],
 "metadata": {
  "kernelspec": {
   "display_name": "Python 3",
   "language": "python",
   "name": "python3"
  },
  "language_info": {
   "codemirror_mode": {
    "name": "ipython",
    "version": 2
   },
   "file_extension": ".py",
   "mimetype": "text/x-python",
   "name": "python",
   "nbconvert_exporter": "python",
   "pygments_lexer": "ipython2",
   "version": "2.7.6"
  }
 },
 "nbformat": 4,
 "nbformat_minor": 5
}
